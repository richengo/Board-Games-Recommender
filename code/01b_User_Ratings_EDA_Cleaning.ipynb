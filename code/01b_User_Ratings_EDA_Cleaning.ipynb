{
 "cells": [
  {
   "cell_type": "markdown",
   "metadata": {},
   "source": [
    "# Capstone Project: Board Games Recommender\n",
    "____________\n",
    "\n",
    "# Part 1b - EDA & Cleaning of User Ratings\n",
    "\n",
    "### Riche Ngo, SG-DSI-18"
   ]
  },
  {
   "cell_type": "markdown",
   "metadata": {},
   "source": [
    "### Contents:\n",
    "- [User Ratings](#User-Ratings)"
   ]
  },
  {
   "cell_type": "code",
   "execution_count": 25,
   "metadata": {},
   "outputs": [],
   "source": [
    "# Import libraries\n",
    "import pandas as pd\n",
    "import numpy as np\n",
    "import matplotlib.pyplot as plt\n",
    "import seaborn as sns\n",
    "import json_lines\n",
    "import json\n",
    "import ijson\n",
    "import pickle\n",
    "import urllib\n",
    "\n",
    "# Images\n",
    "import cv2\n",
    "\n",
    "from sqlalchemy import create_engine"
   ]
  },
  {
   "cell_type": "markdown",
   "metadata": {},
   "source": [
    "### Import data\n",
    "\n",
    "Import the data for ratings by users of the BGG community."
   ]
  },
  {
   "cell_type": "code",
   "execution_count": 2,
   "metadata": {
    "scrolled": true
   },
   "outputs": [
    {
     "name": "stdout",
     "output_type": "stream",
     "text": [
      "1 {'bgg_id': 13, 'bgg_user_for_trade': False, 'bgg_user_name': ' beastvol', 'bgg_user_owned': True, 'bgg_user_play_count': 0, 'bgg_user_preordered': False, 'bgg_user_prev_owned': False, 'bgg_user_rating': 8.0, 'bgg_user_want_in_trade': False, 'bgg_user_want_to_buy': False, 'bgg_user_want_to_play': False, 'item_id': '4301111', 'updated_at': '2007-01-05T16:27:08+0000'}\n",
      "\n",
      "-----------------------\n",
      "2 {'bgg_id': 118, 'bgg_user_for_trade': False, 'bgg_user_name': ' beastvol', 'bgg_user_owned': True, 'bgg_user_play_count': 0, 'bgg_user_preordered': False, 'bgg_user_prev_owned': False, 'bgg_user_rating': 7.0, 'bgg_user_want_in_trade': False, 'bgg_user_want_to_buy': False, 'bgg_user_want_to_play': False, 'item_id': '5886861', 'updated_at': '2007-12-18T23:16:15+0000'}\n",
      "\n",
      "-----------------------\n",
      "3 {'bgg_id': 278, 'bgg_user_for_trade': False, 'bgg_user_name': ' beastvol', 'bgg_user_owned': True, 'bgg_user_play_count': 0, 'bgg_user_preordered': False, 'bgg_user_prev_owned': False, 'bgg_user_rating': 7.0, 'bgg_user_want_in_trade': False, 'bgg_user_want_to_buy': False, 'bgg_user_want_to_play': False, 'item_id': '4301110', 'updated_at': '2007-01-05T16:27:08+0000'}\n",
      "\n",
      "-----------------------\n",
      "4 {'bgg_id': 823, 'bgg_user_for_trade': False, 'bgg_user_name': ' beastvol', 'bgg_user_owned': True, 'bgg_user_play_count': 0, 'bgg_user_preordered': False, 'bgg_user_prev_owned': False, 'bgg_user_rating': 6.0, 'bgg_user_want_in_trade': False, 'bgg_user_want_to_buy': False, 'bgg_user_want_to_play': False, 'item_id': '5886854', 'updated_at': '2007-12-18T23:15:32+0000'}\n",
      "\n",
      "-----------------------\n",
      "5 {'bgg_id': 3076, 'bgg_user_for_trade': False, 'bgg_user_name': ' beastvol', 'bgg_user_owned': True, 'bgg_user_play_count': 0, 'bgg_user_preordered': False, 'bgg_user_prev_owned': False, 'bgg_user_rating': 9.0, 'bgg_user_want_in_trade': False, 'bgg_user_want_to_buy': False, 'bgg_user_want_to_play': False, 'item_id': '5886839', 'updated_at': '2007-12-18T23:13:16+0000'}\n",
      "\n",
      "-----------------------\n",
      "6 {'bgg_id': 5737, 'bgg_user_for_trade': False, 'bgg_user_name': ' beastvol', 'bgg_user_owned': True, 'bgg_user_play_count': 0, 'bgg_user_preordered': False, 'bgg_user_prev_owned': False, 'bgg_user_rating': 8.0, 'bgg_user_want_in_trade': False, 'bgg_user_want_to_buy': False, 'bgg_user_want_to_play': False, 'item_id': '5886850', 'updated_at': '2007-12-18T23:14:48+0000'}\n",
      "\n",
      "-----------------------\n",
      "7 {'bgg_id': 9209, 'bgg_user_for_trade': False, 'bgg_user_name': ' beastvol', 'bgg_user_owned': True, 'bgg_user_play_count': 0, 'bgg_user_preordered': False, 'bgg_user_prev_owned': False, 'bgg_user_rating': 7.0, 'bgg_user_want_in_trade': False, 'bgg_user_want_to_buy': False, 'bgg_user_want_to_play': False, 'item_id': '5886856', 'updated_at': '2007-12-18T23:15:53+0000'}\n",
      "\n",
      "-----------------------\n",
      "8 {'bgg_id': 12004, 'bgg_user_for_trade': False, 'bgg_user_name': ' beastvol', 'bgg_user_owned': True, 'bgg_user_play_count': 0, 'bgg_user_preordered': False, 'bgg_user_prev_owned': False, 'bgg_user_rating': 5.0, 'bgg_user_want_in_trade': False, 'bgg_user_want_to_buy': False, 'bgg_user_want_to_play': False, 'item_id': '5886847', 'updated_at': '2007-12-18T23:14:23+0000'}\n",
      "\n",
      "-----------------------\n",
      "9 {'bgg_id': 18602, 'bgg_user_for_trade': False, 'bgg_user_name': ' beastvol', 'bgg_user_owned': True, 'bgg_user_play_count': 0, 'bgg_user_preordered': False, 'bgg_user_prev_owned': False, 'bgg_user_rating': 9.0, 'bgg_user_want_in_trade': False, 'bgg_user_want_to_buy': False, 'bgg_user_want_to_play': False, 'item_id': '5886842', 'updated_at': '2007-12-18T23:13:39+0000'}\n",
      "\n",
      "-----------------------\n"
     ]
    }
   ],
   "source": [
    "# User ratings on board games\n",
    "# Read 10 lines of the .jl file to see what we are dealing with\n",
    "with open('../datasets/boardgames/bgg_RatingItem.jl', 'rb') as f:\n",
    "    count = 1\n",
    "    for item in json_lines.reader(f):\n",
    "        print(count, item)\n",
    "        print('\\n-----------------------')\n",
    "        count += 1\n",
    "        if count == 10:\n",
    "            break"
   ]
  },
  {
   "cell_type": "code",
   "execution_count": 3,
   "metadata": {
    "scrolled": true
   },
   "outputs": [
    {
     "name": "stdout",
     "output_type": "stream",
     "text": [
      "1 {'bgg_user_name': ' beastvol', 'country': 'United States', 'first_name': 'Ben', 'item_id': 93730, 'last_login': '2008-01-05T00:00:00+0000', 'last_name': 'Eastvold', 'region': 'California', 'registered': 2006, 'updated_at': '2021-01-02T21:41:11+0000'}\n",
      "\n",
      "-----------------------\n",
      "2 {'bgg_user_name': ' fu_koios ', 'country': 'United States', 'first_name': 'Daniel', 'item_id': 131428, 'last_login': '2020-12-23T00:00:00+0000', 'last_name': 'Reece', 'region': 'Ohio', 'registered': 2007, 'updated_at': '2020-12-25T22:06:03+0000'}\n",
      "\n",
      "-----------------------\n",
      "3 {'bgg_user_name': ' mycroft', 'country': 'United States', 'first_name': 'Ron', 'item_id': 72411, 'last_login': '2020-02-22T00:00:00+0000', 'last_name': 'Stewart', 'region': 'New Mexico', 'registered': 2005, 'updated_at': '2020-12-28T00:11:05+0000'}\n",
      "\n",
      "-----------------------\n",
      "4 {'bgg_user_name': ' woh', 'country': 'Belgium', 'first_name': 'w', 'item_id': 117522, 'last_login': '2019-02-05T00:00:00+0000', 'last_name': 'o', 'registered': 2006, 'updated_at': '2020-12-26T03:21:03+0000'}\n",
      "\n",
      "-----------------------\n",
      "5 {'bgg_user_name': '(mostly) harmless', 'country': 'Austria', 'first_name': 'Michael', 'item_id': 109851, 'last_login': '2011-01-13T00:00:00+0000', 'last_name': 'T.', 'registered': 2006, 'updated_at': '2020-12-29T08:14:59+0000'}\n",
      "\n",
      "-----------------------\n",
      "6 {'bgg_user_name': '(zemaze'}\n",
      "\n",
      "-----------------------\n",
      "7 {'bgg_user_name': '- v -', 'item_id': 45830, 'last_login': '2006-09-27T00:00:00+0000', 'registered': 2005, 'updated_at': '2020-12-31T06:11:05+0000'}\n",
      "\n",
      "-----------------------\n",
      "8 {'bgg_user_name': '-=yod@=-', 'country': 'Spain', 'external_link': ['http://otrojuegomas.drupalgardens.com/'], 'first_name': 'MariusMyron', 'item_id': 113563, 'last_login': '2020-12-28T00:00:00+0000', 'registered': 2006, 'updated_at': '2020-12-29T03:28:27+0000'}\n",
      "\n",
      "-----------------------\n",
      "9 {'bgg_user_name': '-de-', 'country': 'Poland', 'first_name': 'Maciej', 'item_id': 100015, 'last_login': '2006-08-20T00:00:00+0000', 'last_name': 'Kuczyński', 'registered': 2006, 'updated_at': '2020-12-29T18:51:59+0000'}\n",
      "\n",
      "-----------------------\n"
     ]
    }
   ],
   "source": [
    "# User profiles on BGG\n",
    "# Read 10 lines of the .jl file to see what we are dealing with\n",
    "with open('../datasets/boardgames/scraped_bgg_UserItem.jl', 'rb') as f:\n",
    "    count = 1\n",
    "    for item in json_lines.reader(f):\n",
    "        print(count, item)\n",
    "        print('\\n-----------------------')\n",
    "        count += 1\n",
    "        if count == 10:\n",
    "            break"
   ]
  },
  {
   "cell_type": "markdown",
   "metadata": {},
   "source": [
    "We want to import the data containing the user ratings since it would come in useful for recommender systems using collaborating filtering. We choose not to use the user profiles."
   ]
  },
  {
   "cell_type": "code",
   "execution_count": 1,
   "metadata": {},
   "outputs": [
    {
     "data": {
      "text/plain": [
       "38968809"
      ]
     },
     "execution_count": 1,
     "metadata": {},
     "output_type": "execute_result"
    }
   ],
   "source": [
    "# Count the number of lines in large json_lines file\n",
    "with open('../datasets/boardgames/bgg_RatingItem.jl', 'rb') as f:\n",
    "    count_lines = sum([1 for line in f])\n",
    "count_lines"
   ]
  },
  {
   "cell_type": "code",
   "execution_count": 16,
   "metadata": {
    "scrolled": true
   },
   "outputs": [],
   "source": [
    "# Import user ratings into dataframe\n",
    "# Extract only the ratings from 2015 onwards\n",
    "data = []\n",
    "with open('../datasets/boardgames/bgg_RatingItem.jl', 'rb') as f:\n",
    "    \n",
    "    for item in json_lines.reader(f):\n",
    "        user_dict = {}\n",
    "        try:\n",
    "            year = int(item['updated_at'].split('-')[0])\n",
    "            month = int(item['updated_at'].split('-')[1])\n",
    "            if year >= 2015:\n",
    "                user_dict['bgg_user_name'] = item['bgg_user_name']\n",
    "                user_dict['bgg_id'] = item['bgg_id']\n",
    "                user_dict['bgg_user_rating'] = item['bgg_user_rating']\n",
    "                user_dict['year'] = year\n",
    "                user_dict['month'] = month\n",
    "                data.append(user_dict)\n",
    "        except:\n",
    "            continue"
   ]
  },
  {
   "cell_type": "code",
   "execution_count": 17,
   "metadata": {},
   "outputs": [],
   "source": [
    "user_df = pd.DataFrame(data)"
   ]
  },
  {
   "cell_type": "code",
   "execution_count": 24,
   "metadata": {},
   "outputs": [
    {
     "data": {
      "text/html": [
       "<div>\n",
       "<style scoped>\n",
       "    .dataframe tbody tr th:only-of-type {\n",
       "        vertical-align: middle;\n",
       "    }\n",
       "\n",
       "    .dataframe tbody tr th {\n",
       "        vertical-align: top;\n",
       "    }\n",
       "\n",
       "    .dataframe thead th {\n",
       "        text-align: right;\n",
       "    }\n",
       "</style>\n",
       "<table border=\"1\" class=\"dataframe\">\n",
       "  <thead>\n",
       "    <tr style=\"text-align: right;\">\n",
       "      <th></th>\n",
       "      <th>bgg_user_name</th>\n",
       "      <th>bgg_id</th>\n",
       "      <th>bgg_user_rating</th>\n",
       "      <th>year</th>\n",
       "      <th>month</th>\n",
       "    </tr>\n",
       "  </thead>\n",
       "  <tbody>\n",
       "    <tr>\n",
       "      <th>9241479</th>\n",
       "      <td>robanders8</td>\n",
       "      <td>108784</td>\n",
       "      <td>10.0</td>\n",
       "      <td>2015</td>\n",
       "      <td>7</td>\n",
       "    </tr>\n",
       "    <tr>\n",
       "      <th>2378463</th>\n",
       "      <td>danielsp_86</td>\n",
       "      <td>39351</td>\n",
       "      <td>8.0</td>\n",
       "      <td>2015</td>\n",
       "      <td>6</td>\n",
       "    </tr>\n",
       "    <tr>\n",
       "      <th>8722111</th>\n",
       "      <td>prof. plum</td>\n",
       "      <td>826</td>\n",
       "      <td>10.0</td>\n",
       "      <td>2020</td>\n",
       "      <td>9</td>\n",
       "    </tr>\n",
       "    <tr>\n",
       "      <th>1795305</th>\n",
       "      <td>chaimw</td>\n",
       "      <td>277961</td>\n",
       "      <td>6.0</td>\n",
       "      <td>2019</td>\n",
       "      <td>5</td>\n",
       "    </tr>\n",
       "    <tr>\n",
       "      <th>2472087</th>\n",
       "      <td>dattenhein</td>\n",
       "      <td>171668</td>\n",
       "      <td>8.0</td>\n",
       "      <td>2019</td>\n",
       "      <td>5</td>\n",
       "    </tr>\n",
       "    <tr>\n",
       "      <th>4460241</th>\n",
       "      <td>haschim</td>\n",
       "      <td>177524</td>\n",
       "      <td>6.0</td>\n",
       "      <td>2019</td>\n",
       "      <td>9</td>\n",
       "    </tr>\n",
       "    <tr>\n",
       "      <th>11081153</th>\n",
       "      <td>tms_</td>\n",
       "      <td>45</td>\n",
       "      <td>7.5</td>\n",
       "      <td>2019</td>\n",
       "      <td>2</td>\n",
       "    </tr>\n",
       "    <tr>\n",
       "      <th>7987428</th>\n",
       "      <td>novatheorem</td>\n",
       "      <td>193557</td>\n",
       "      <td>7.0</td>\n",
       "      <td>2017</td>\n",
       "      <td>3</td>\n",
       "    </tr>\n",
       "    <tr>\n",
       "      <th>7178516</th>\n",
       "      <td>mhoehener</td>\n",
       "      <td>219513</td>\n",
       "      <td>8.0</td>\n",
       "      <td>2019</td>\n",
       "      <td>8</td>\n",
       "    </tr>\n",
       "    <tr>\n",
       "      <th>5994116</th>\n",
       "      <td>kmancheese</td>\n",
       "      <td>163354</td>\n",
       "      <td>5.0</td>\n",
       "      <td>2015</td>\n",
       "      <td>4</td>\n",
       "    </tr>\n",
       "  </tbody>\n",
       "</table>\n",
       "</div>"
      ],
      "text/plain": [
       "         bgg_user_name  bgg_id  bgg_user_rating  year  month\n",
       "9241479     robanders8  108784             10.0  2015      7\n",
       "2378463    danielsp_86   39351              8.0  2015      6\n",
       "8722111     prof. plum     826             10.0  2020      9\n",
       "1795305         chaimw  277961              6.0  2019      5\n",
       "2472087     dattenhein  171668              8.0  2019      5\n",
       "4460241        haschim  177524              6.0  2019      9\n",
       "11081153          tms_      45              7.5  2019      2\n",
       "7987428    novatheorem  193557              7.0  2017      3\n",
       "7178516      mhoehener  219513              8.0  2019      8\n",
       "5994116     kmancheese  163354              5.0  2015      4"
      ]
     },
     "execution_count": 24,
     "metadata": {},
     "output_type": "execute_result"
    }
   ],
   "source": [
    "user_df.sample(10, random_state=42)"
   ]
  },
  {
   "cell_type": "code",
   "execution_count": 18,
   "metadata": {},
   "outputs": [
    {
     "data": {
      "text/plain": [
       "(12278239, 5)"
      ]
     },
     "execution_count": 18,
     "metadata": {},
     "output_type": "execute_result"
    }
   ],
   "source": [
    "user_df.shape"
   ]
  },
  {
   "cell_type": "code",
   "execution_count": 32,
   "metadata": {},
   "outputs": [
    {
     "data": {
      "text/plain": [
       "bgg_user_name       object\n",
       "bgg_id               int64\n",
       "bgg_user_rating    float64\n",
       "year                 int64\n",
       "month                int64\n",
       "dtype: object"
      ]
     },
     "execution_count": 32,
     "metadata": {},
     "output_type": "execute_result"
    }
   ],
   "source": [
    "user_df.dtypes"
   ]
  },
  {
   "cell_type": "code",
   "execution_count": 61,
   "metadata": {},
   "outputs": [
    {
     "data": {
      "text/plain": [
       "bgg_user_name      0\n",
       "bgg_id             0\n",
       "bgg_user_rating    0\n",
       "year               0\n",
       "month              0\n",
       "dtype: int64"
      ]
     },
     "execution_count": 61,
     "metadata": {},
     "output_type": "execute_result"
    }
   ],
   "source": [
    "# Check for null values\n",
    "user_df.isnull().sum()"
   ]
  },
  {
   "cell_type": "markdown",
   "metadata": {},
   "source": [
    "## User Ratings"
   ]
  },
  {
   "cell_type": "code",
   "execution_count": 31,
   "metadata": {},
   "outputs": [
    {
     "data": {
      "text/plain": [
       "count    1.227824e+07\n",
       "mean     7.133654e+00\n",
       "std      1.587553e+00\n",
       "min      1.000000e-03\n",
       "25%      6.000000e+00\n",
       "50%      7.000000e+00\n",
       "75%      8.000000e+00\n",
       "max      1.000000e+01\n",
       "Name: bgg_user_rating, dtype: float64"
      ]
     },
     "execution_count": 31,
     "metadata": {},
     "output_type": "execute_result"
    }
   ],
   "source": [
    "user_df['bgg_user_rating'].describe()"
   ]
  },
  {
   "cell_type": "markdown",
   "metadata": {},
   "source": [
    "We observe that the median rating is 7.0, and most of the users gave board games a rating of between 6.0 and 8.0 (inclusive).\n",
    "\n",
    "We noticed that the minimum rating is 0.001 which is not possible. We will remove those rows."
   ]
  },
  {
   "cell_type": "code",
   "execution_count": 51,
   "metadata": {},
   "outputs": [
    {
     "data": {
      "text/html": [
       "<div>\n",
       "<style scoped>\n",
       "    .dataframe tbody tr th:only-of-type {\n",
       "        vertical-align: middle;\n",
       "    }\n",
       "\n",
       "    .dataframe tbody tr th {\n",
       "        vertical-align: top;\n",
       "    }\n",
       "\n",
       "    .dataframe thead th {\n",
       "        text-align: right;\n",
       "    }\n",
       "</style>\n",
       "<table border=\"1\" class=\"dataframe\">\n",
       "  <thead>\n",
       "    <tr style=\"text-align: right;\">\n",
       "      <th></th>\n",
       "      <th>bgg_user_name</th>\n",
       "      <th>bgg_id</th>\n",
       "      <th>bgg_user_rating</th>\n",
       "      <th>year</th>\n",
       "      <th>month</th>\n",
       "    </tr>\n",
       "  </thead>\n",
       "  <tbody>\n",
       "    <tr>\n",
       "      <th>826271</th>\n",
       "      <td>badgeguy</td>\n",
       "      <td>7971</td>\n",
       "      <td>0.001</td>\n",
       "      <td>2018</td>\n",
       "      <td>1</td>\n",
       "    </tr>\n",
       "    <tr>\n",
       "      <th>10166363</th>\n",
       "      <td>solid</td>\n",
       "      <td>18041</td>\n",
       "      <td>0.001</td>\n",
       "      <td>2019</td>\n",
       "      <td>5</td>\n",
       "    </tr>\n",
       "  </tbody>\n",
       "</table>\n",
       "</div>"
      ],
      "text/plain": [
       "         bgg_user_name  bgg_id  bgg_user_rating  year  month\n",
       "826271        badgeguy    7971            0.001  2018      1\n",
       "10166363         solid   18041            0.001  2019      5"
      ]
     },
     "execution_count": 51,
     "metadata": {},
     "output_type": "execute_result"
    }
   ],
   "source": [
    "# Check those anomalous ratings\n",
    "user_df[user_df['bgg_user_rating']<1]"
   ]
  },
  {
   "cell_type": "code",
   "execution_count": 52,
   "metadata": {},
   "outputs": [],
   "source": [
    "# Remove anomalies\n",
    "user_df = user_df[user_df['bgg_user_rating'] >= 1]"
   ]
  },
  {
   "cell_type": "code",
   "execution_count": 53,
   "metadata": {},
   "outputs": [
    {
     "data": {
      "image/png": "[encoded data removed]",
      "text/plain": [
       "<Figure size 864x576 with 1 Axes>"
      ]
     },
     "metadata": {
      "needs_background": "light"
     },
     "output_type": "display_data"
    }
   ],
   "source": [
    "yr_plot = pd.to_datetime(user_df[['year', 'month']].assign(DAY=1)).value_counts().sort_index()\n",
    "\n",
    "plt.figure(figsize=(12,8))\n",
    "plt.plot(yr_plot.index, yr_plot.values, linewidth=3, c='r')\n",
    "plt.title('Number of Board Game Ratings Over Time', fontsize=15);"
   ]
  },
  {
   "cell_type": "markdown",
   "metadata": {},
   "source": [
    "We observe that there is a general increasing trend in the number of ratings given to board games throughout the years. There seems to be a cyclic pattern, where the number of ratings generally plunges towards the mid of each year, then rises quickly nearing the end of each year. The number of board games then drops down easing into a new year and the cycle repeats. It suggests that people are generally more active on the BGG website towards the end of each year, where more board games tend to be released. It is also common for online creators to post their reviews on board games every quarter of the year, leading to overall reviews on that particular year at the end. This increases the awareness of many board games in general, thereby increasing online activity. Furthermore, people are more likely to play board games towards the end of the year due to holidays and also more freetime. "
   ]
  },
  {
   "cell_type": "markdown",
   "metadata": {},
   "source": [
    "### Save file"
   ]
  },
  {
   "cell_type": "code",
   "execution_count": 54,
   "metadata": {},
   "outputs": [],
   "source": [
    "# Save the dataframe as a .pkl file\n",
    "outfile = open('../datasets/boardgames/bgg_5yrs_RatingItem.pkl', 'wb')\n",
    "pickle.dump(user_df, outfile)\n",
    "outfile.close()"
   ]
  },
  {
   "cell_type": "code",
   "execution_count": 62,
   "metadata": {},
   "outputs": [
    {
     "name": "stdout",
     "output_type": "stream",
     "text": [
      "2021-01-13 21:34:54,602 INFO sqlalchemy.engine.base.Engine SELECT CAST('test plain returns' AS VARCHAR(60)) AS anon_1\n",
      "2021-01-13 21:34:54,604 INFO sqlalchemy.engine.base.Engine ()\n",
      "2021-01-13 21:34:54,606 INFO sqlalchemy.engine.base.Engine SELECT CAST('test unicode returns' AS VARCHAR(60)) AS anon_1\n",
      "2021-01-13 21:34:54,607 INFO sqlalchemy.engine.base.Engine ()\n"
     ]
    }
   ],
   "source": [
    "# Create a local database using sqlite\n",
    "engine = create_engine('sqlite:///../datasets/boardgames/bgg_5yrs_RatingItem.db', echo=True)\n",
    "sqlite_connection = engine.connect()"
   ]
  },
  {
   "cell_type": "code",
   "execution_count": 63,
   "metadata": {
    "scrolled": true
   },
   "outputs": [
    {
     "name": "stdout",
     "output_type": "stream",
     "text": [
      "2021-01-13 21:34:58,084 INFO sqlalchemy.engine.base.Engine PRAGMA main.table_info(\"bgg_ratings\")\n",
      "2021-01-13 21:34:58,085 INFO sqlalchemy.engine.base.Engine ()\n",
      "2021-01-13 21:34:58,087 INFO sqlalchemy.engine.base.Engine PRAGMA temp.table_info(\"bgg_ratings\")\n",
      "2021-01-13 21:34:58,087 INFO sqlalchemy.engine.base.Engine ()\n",
      "2021-01-13 21:34:58,090 INFO sqlalchemy.engine.base.Engine \n",
      "CREATE TABLE bgg_ratings (\n",
      "\tbgg_user_name TEXT, \n",
      "\tbgg_id BIGINT, \n",
      "\tbgg_user_rating FLOAT, \n",
      "\tyear BIGINT, \n",
      "\tmonth BIGINT\n",
      ")\n",
      "\n",
      "\n",
      "2021-01-13 21:34:58,091 INFO sqlalchemy.engine.base.Engine ()\n",
      "2021-01-13 21:34:58,098 INFO sqlalchemy.engine.base.Engine COMMIT\n",
      "2021-01-13 21:35:00,825 INFO sqlalchemy.engine.base.Engine BEGIN (implicit)\n",
      "2021-01-13 21:35:54,872 INFO sqlalchemy.engine.base.Engine INSERT INTO bgg_ratings (bgg_user_name, bgg_id, bgg_user_rating, year, month) VALUES (?, ?, ?, ?, ?)\n",
      "2021-01-13 21:35:54,877 INFO sqlalchemy.engine.base.Engine ((' fu_koios ', 223033, 9.0, 2017, 10), ('-=yod@=-', 7, 7.5, 2015, 3), ('-=yod@=-', 42, 6.5, 2016, 10), ('-=yod@=-', 217, 6.75, 2016, 10), ('-=yod@=-', 432, 7.5, 2017, 5), ('-=yod@=-', 463, 9.0, 2018, 3), ('-=yod@=-', 478, 6.0, 2020, 1), ('-=yod@=-', 503, 7.0, 2016, 10)  ... displaying 10 of 12278237 total bound parameter sets ...  ('zzzzzane', 254640, 9.5, 2019, 10), ('zzzzzane', 269210, 8.0, 2020, 12))\n",
      "2021-01-13 21:36:18,983 INFO sqlalchemy.engine.base.Engine COMMIT\n"
     ]
    }
   ],
   "source": [
    "# Save dataframe to database\n",
    "sqlite_table = \"bgg_ratings\"\n",
    "user_df.to_sql(sqlite_table, sqlite_connection, if_exists='fail', index=False)"
   ]
  },
  {
   "cell_type": "code",
   "execution_count": 64,
   "metadata": {},
   "outputs": [],
   "source": [
    "# Close connection\n",
    "sqlite_connection.close()"
   ]
  },
  {
   "cell_type": "code",
   "execution_count": null,
   "metadata": {},
   "outputs": [],
   "source": []
  },
  {
   "cell_type": "code",
   "execution_count": null,
   "metadata": {},
   "outputs": [],
   "source": []
  },
  {
   "cell_type": "code",
   "execution_count": null,
   "metadata": {},
   "outputs": [],
   "source": []
  },
  {
   "cell_type": "code",
   "execution_count": 21,
   "metadata": {},
   "outputs": [],
   "source": [
    "# with open('../datasets/boardgames/scraped_bgg_UserItem.jl', 'rb') as f:\n",
    "#     objects = ijson.items(f, 'bgg_user_name')\n",
    "#     columns = list(objects)\n",
    "\n",
    "# columns"
   ]
  },
  {
   "cell_type": "code",
   "execution_count": null,
   "metadata": {},
   "outputs": [],
   "source": [
    "\n",
    "# filename = \"md_traffic.json\"\n",
    "# with open(filename, 'r') as f:\n",
    "#     objects = ijson.items(f, 'meta.view.columns.item')\n",
    "#     columns = list(objects)"
   ]
  },
  {
   "cell_type": "code",
   "execution_count": null,
   "metadata": {},
   "outputs": [],
   "source": [
    "# Import user ratings into dataframe\n",
    "# https://ram-parameswaran22.medium.com/a-relatively-faster-approach-for-reading-json-lines-file-into-pandas-dataframe-90b57353fd38\n",
    "# with open('../datasets/boardgames/bgg_RatingItem.jl', 'rb') as f:\n",
    "#     lines = f.read().splitlines()\n",
    "    \n",
    "# df_inter = pd.DataFrame(lines)\n",
    "# df_inter.columns = ['json_element']\n",
    "# user_df = pd.json_normalize(df_inter['json_element'].apply(json.loads))"
   ]
  },
  {
   "cell_type": "code",
   "execution_count": 20,
   "metadata": {},
   "outputs": [],
   "source": [
    "# pd.DataFrame({'User_id': {'John': 1, 'Hello':3},\n",
    "#              'Game_id_1': {'Larry': 1, 'John':1},\n",
    "#              'Game_id_2': {'Larry': 1}})"
   ]
  }
 ],
 "metadata": {
  "kernelspec": {
   "display_name": "Python 3",
   "language": "python",
   "name": "python3"
  },
  "language_info": {
   "codemirror_mode": {
    "name": "ipython",
    "version": 3
   },
   "file_extension": ".py",
   "mimetype": "text/x-python",
   "name": "python",
   "nbconvert_exporter": "python",
   "pygments_lexer": "ipython3",
   "version": "3.8.3"
  },
  "toc": {
   "base_numbering": 1,
   "nav_menu": {},
   "number_sections": false,
   "sideBar": true,
   "skip_h1_title": true,
   "title_cell": "Table of Contents",
   "title_sidebar": "Contents",
   "toc_cell": false,
   "toc_position": {
    "height": "calc(100% - 180px)",
    "left": "10px",
    "top": "150px",
    "width": "307.2px"
   },
   "toc_section_display": true,
   "toc_window_display": true
  },
  "varInspector": {
   "cols": {
    "lenName": 16,
    "lenType": 16,
    "lenVar": 40
   },
   "kernels_config": {
    "python": {
     "delete_cmd_postfix": "",
     "delete_cmd_prefix": "del ",
     "library": "var_list.py",
     "varRefreshCmd": "print(var_dic_list())"
    },
    "r": {
     "delete_cmd_postfix": ") ",
     "delete_cmd_prefix": "rm(",
     "library": "var_list.r",
     "varRefreshCmd": "cat(var_dic_list()) "
    }
   },
   "types_to_exclude": [
    "module",
    "function",
    "builtin_function_or_method",
    "instance",
    "_Feature"
   ],
   "window_display": false
  }
 },
 "nbformat": 4,
 "nbformat_minor": 4
}
